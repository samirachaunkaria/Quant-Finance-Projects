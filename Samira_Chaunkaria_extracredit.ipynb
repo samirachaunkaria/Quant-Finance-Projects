{
 "cells": [
  {
   "cell_type": "markdown",
   "id": "87c9dc36-bbe7-41c7-b6ad-7ae384720079",
   "metadata": {},
   "source": [
    "## 1. Calculate the bond price given an interest rate term structure and measure the interest rate risk"
   ]
  },
  {
   "cell_type": "code",
   "execution_count": 13,
   "id": "9c2ffbd8-6698-4c49-9130-af73d3cc9118",
   "metadata": {},
   "outputs": [],
   "source": [
    "import numpy as np\n",
    "\n",
    "# Inputs\n",
    "cr = 0.05  # 5% annual coupon rate\n",
    "FV = 1000  # Face value of the bond\n",
    "T = 5      # Time to maturity in years\n",
    "r = np.array([0.051, 0.0511, 0.05112, 0.0513, 0.0514])  # Interest rate curve"
   ]
  },
  {
   "cell_type": "code",
   "execution_count": 15,
   "id": "2b3434f3-6fe4-407c-8e6e-d6d7fda87718",
   "metadata": {},
   "outputs": [
    {
     "name": "stdout",
     "output_type": "stream",
     "text": [
      "Coupon Payment: 50.0\n"
     ]
    }
   ],
   "source": [
    "## Calculate Coupon Payments\n",
    "C = cr * FV\n",
    "print(f\"Coupon Payment: {C}\")"
   ]
  },
  {
   "cell_type": "code",
   "execution_count": 17,
   "id": "ed3e505c-230b-473e-8296-5331f477e752",
   "metadata": {},
   "outputs": [
    {
     "name": "stdout",
     "output_type": "stream",
     "text": [
      "Cash Flows: [  50.   50.   50.   50. 1050.]\n",
      "Cash Flows: [  50.   50.   50.   50. 1050.]\n"
     ]
    }
   ],
   "source": [
    "## Create Cash Flow Array\n",
    "cash_flows = np.full(T - 1, C)  # T-1 coupon payments\n",
    "cash_flows = np.append(cash_flows, C + FV)  # Add final payment\n",
    "print(f\"Cash Flows: {cash_flows}\")\n",
    "\n",
    "cash_flows = np.full(T - 1, C)  # T-1 coupon payments\n",
    "cash_flows = np.append(cash_flows, C + FV)  # Add final payment\n",
    "print(f\"Cash Flows: {cash_flows}\")"
   ]
  },
  {
   "cell_type": "code",
   "execution_count": 19,
   "id": "703a78d3-db5a-4b91-8283-5e09f38ea97c",
   "metadata": {},
   "outputs": [
    {
     "name": "stdout",
     "output_type": "stream",
     "text": [
      "PV of Cash Flows: [ 47.5737393   45.2566009   43.05396024  40.93203593 817.23966229]\n"
     ]
    }
   ],
   "source": [
    "## Calculate PV of Cash Flows\n",
    "\n",
    "# Time periods\n",
    "time_periods = np.arange(1, T + 1)\n",
    "\n",
    "# Present value calculation\n",
    "pv_cash_flows = cash_flows / (1 + r) ** time_periods\n",
    "print(f\"PV of Cash Flows: {pv_cash_flows}\")"
   ]
  },
  {
   "cell_type": "code",
   "execution_count": 21,
   "id": "0fec9b0e-28a4-4c60-9983-6b5dc26892a3",
   "metadata": {},
   "outputs": [
    {
     "name": "stdout",
     "output_type": "stream",
     "text": [
      "Bond Price: 994.0559986565285\n"
     ]
    }
   ],
   "source": [
    "## Compute Bond Price\n",
    "\n",
    "bond_price = np.sum(pv_cash_flows)\n",
    "print(f\"Bond Price: {bond_price}\")"
   ]
  },
  {
   "cell_type": "markdown",
   "id": "e185003e-9f77-4781-b540-009ac1e8ceae",
   "metadata": {},
   "source": [
    "## 2. Find the implicit YTM"
   ]
  },
  {
   "cell_type": "code",
   "execution_count": 24,
   "id": "6c81778f-93d0-4936-9843-c7ba804e1375",
   "metadata": {},
   "outputs": [
    {
     "name": "stdout",
     "output_type": "stream",
     "text": [
      "Requirement already satisfied: numpy-financial in /opt/anaconda3/lib/python3.12/site-packages (1.0.0)\n",
      "Requirement already satisfied: numpy>=1.15 in /opt/anaconda3/lib/python3.12/site-packages (from numpy-financial) (1.26.4)\n",
      "Note: you may need to restart the kernel to use updated packages.\n"
     ]
    }
   ],
   "source": [
    "pip install numpy-financial"
   ]
  },
  {
   "cell_type": "code",
   "execution_count": 26,
   "id": "1412d83c-f42e-45a8-b8b7-37de263d649f",
   "metadata": {},
   "outputs": [],
   "source": [
    "import numpy as np\n",
    "import numpy_financial as npf"
   ]
  },
  {
   "cell_type": "code",
   "execution_count": 28,
   "id": "67bc11ae-f372-44bf-a9c0-e099ab6b5cf4",
   "metadata": {},
   "outputs": [
    {
     "name": "stdout",
     "output_type": "stream",
     "text": [
      "Cash Flows: [  50.   50.   50.   50. 1050.]\n",
      "Bond Price: 994.0559986565285\n",
      "Yield to Maturity (YTM): 0.051378\n"
     ]
    }
   ],
   "source": [
    "# Define Bond Cash Flows\n",
    "\n",
    "# Inputs\n",
    "cr = 0.05  # 5% annual coupon rate\n",
    "FV = 1000  # Face value of the bond\n",
    "T = 5      # Time to maturity in years\n",
    "r = np.array([0.051, 0.0511, 0.05112, 0.0513, 0.0514])  # Interest rate curve"
   ]
  },
  {
   "cell_type": "code",
   "execution_count": 30,
   "id": "a447432c-6836-4ae4-8347-86fd04df24f6",
   "metadata": {},
   "outputs": [
    {
     "name": "stdout",
     "output_type": "stream",
     "text": [
      "Coupon Payment: 50.0\n"
     ]
    }
   ],
   "source": [
    "# Coupon Payment\n",
    "C = cr * FV\n",
    "print(f\"Coupon Payment: {C}\")"
   ]
  },
  {
   "cell_type": "code",
   "execution_count": 32,
   "id": "93cf4ca5-2521-4da8-bab1-fcfc10def33d",
   "metadata": {},
   "outputs": [
    {
     "name": "stdout",
     "output_type": "stream",
     "text": [
      "Cash Flows: [  50.   50.   50.   50. 1050.]\n"
     ]
    }
   ],
   "source": [
    "# Cash Flows\n",
    "cash_flows = np.full(T - 1, C)  # T-1 coupon payments\n",
    "cash_flows = np.append(cash_flows, C + FV)  # Add final payment\n",
    "print(f\"Cash Flows: {cash_flows}\")"
   ]
  },
  {
   "cell_type": "code",
   "execution_count": 34,
   "id": "ecef8f10-ba76-465a-bebf-6f7a3a28b98a",
   "metadata": {},
   "outputs": [
    {
     "name": "stdout",
     "output_type": "stream",
     "text": [
      "Bond Price: 994.0559986565285\n"
     ]
    }
   ],
   "source": [
    "# Bond Price (calculated previously)\n",
    "time_periods = np.arange(1, T + 1)  # Time periods\n",
    "pv_cash_flows = cash_flows / (1 + r) ** time_periods\n",
    "bond_price = np.sum(pv_cash_flows)\n",
    "print(f\"Bond Price: {bond_price}\")"
   ]
  },
  {
   "cell_type": "code",
   "execution_count": 36,
   "id": "5b53a41b-8949-4da5-ba97-82a0aef738ff",
   "metadata": {},
   "outputs": [
    {
     "name": "stdout",
     "output_type": "stream",
     "text": [
      "Yield to Maturity (YTM): 0.051378\n"
     ]
    }
   ],
   "source": [
    "# YTM Calculation\n",
    "ytm = npf.irr([-bond_price] + list(cash_flows))\n",
    "print(f\"Yield to Maturity (YTM): {ytm:.6f}\")"
   ]
  },
  {
   "cell_type": "markdown",
   "id": "1718ce71-5774-4e4a-a547-95d5bd9f234e",
   "metadata": {},
   "source": [
    "## 3. Compute Bond Duration"
   ]
  },
  {
   "cell_type": "code",
   "execution_count": 44,
   "id": "8dbff7c7-d1a2-4d5c-9e45-b5d32ea4c9d6",
   "metadata": {},
   "outputs": [],
   "source": [
    "# Inputs\n",
    "C = 50        # Annual coupon payment\n",
    "FV = 1000     # Face value\n",
    "T = 5         # Time to maturity\n",
    "r = np.array([0.051, 0.0511, 0.05112, 0.0513, 0.0514])  # Interest rate curve"
   ]
  },
  {
   "cell_type": "code",
   "execution_count": 46,
   "id": "9f1e7a10-ecd9-415b-bd55-6631030ae5c0",
   "metadata": {},
   "outputs": [
    {
     "name": "stdout",
     "output_type": "stream",
     "text": [
      "Bond Price: 994.0559986565285\n"
     ]
    }
   ],
   "source": [
    "# Calculate Bond Price\n",
    "cash_flows = np.full(T - 1, C)  # T-1 coupon payments\n",
    "cash_flows = np.append(cash_flows, C + FV)  # Add final payment\n",
    "time_periods = np.arange(1, T + 1)  # Time periods\n",
    "pv_cash_flows = cash_flows / (1 + r) ** time_periods  # PV of cash flows\n",
    "bond_price = np.sum(pv_cash_flows)\n",
    "print(f\"Bond Price: {bond_price}\")"
   ]
  },
  {
   "cell_type": "code",
   "execution_count": 48,
   "id": "4f7ebd35-0ef9-44b6-9e29-010b7db15b2c",
   "metadata": {},
   "outputs": [
    {
     "name": "stdout",
     "output_type": "stream",
     "text": [
      "Weights: [0.04785821 0.04552721 0.0433114  0.04117679 0.82212638]\n"
     ]
    }
   ],
   "source": [
    "# Calculate Weights\n",
    "weights = pv_cash_flows / bond_price\n",
    "print(f\"Weights: {weights}\")"
   ]
  },
  {
   "cell_type": "code",
   "execution_count": 50,
   "id": "fcfe292d-8b82-403a-ad3c-263acebdc4a4",
   "metadata": {},
   "outputs": [
    {
     "name": "stdout",
     "output_type": "stream",
     "text": [
      "Weighted Times: [0.04785821 0.09105443 0.12993421 0.16470716 4.11063191]\n"
     ]
    }
   ],
   "source": [
    "# Multiply Weights by Time\n",
    "weighted_times = time_periods * weights\n",
    "print(f\"Weighted Times: {weighted_times}\")"
   ]
  },
  {
   "cell_type": "code",
   "execution_count": 52,
   "id": "a558fd56-c2bc-4bb0-a4f2-158b27be08ae",
   "metadata": {},
   "outputs": [
    {
     "name": "stdout",
     "output_type": "stream",
     "text": [
      "Duration: 4.5441859242214\n"
     ]
    }
   ],
   "source": [
    "# Step 4: Compute Duration\n",
    "duration = np.sum(weighted_times)\n",
    "print(f\"Duration: {duration}\")"
   ]
  },
  {
   "cell_type": "markdown",
   "id": "54c7fed1-a45a-42f1-b43a-708b9c05d30a",
   "metadata": {},
   "source": [
    "## Calculate percentage changes in bond price"
   ]
  },
  {
   "cell_type": "code",
   "execution_count": 57,
   "id": "e6689097-fe53-4ab4-979f-ae22374cd89d",
   "metadata": {},
   "outputs": [],
   "source": [
    "# New YTM array\n",
    "new_ytm = np.array([0.048, 0.0421, 0.03912, 0.0353, 0.0274])"
   ]
  },
  {
   "cell_type": "code",
   "execution_count": 59,
   "id": "c3d7183d-3e35-4c7f-850b-94dbc488fe17",
   "metadata": {},
   "outputs": [
    {
     "name": "stdout",
     "output_type": "stream",
     "text": [
      "Delta YTM: [-0.003 -0.009 -0.012 -0.016 -0.024]\n"
     ]
    }
   ],
   "source": [
    "# Original YTM array\n",
    "original_ytm = r  # The original YTM array\n",
    "delta_ytm = new_ytm - original_ytm\n",
    "print(f\"Delta YTM: {delta_ytm}\")"
   ]
  },
  {
   "cell_type": "code",
   "execution_count": 61,
   "id": "d2d36a96-1a87-4041-99f8-cd09c936c746",
   "metadata": {},
   "outputs": [
    {
     "name": "stdout",
     "output_type": "stream",
     "text": [
      "Percentage Change in Bond Price: [0.01363256 0.04089767 0.05453023 0.07270697 0.10906046]\n"
     ]
    }
   ],
   "source": [
    "# Calculate percentage changes in bond price\n",
    "percent_change = -duration * delta_ytm\n",
    "print(f\"Percentage Change in Bond Price: {percent_change}\")"
   ]
  },
  {
   "cell_type": "raw",
   "id": "d08d8e37-6c8f-4863-b648-c5b137751c3b",
   "metadata": {},
   "source": [
    "# Interpretation\n",
    "\n",
    "Bond prices increase with decreasing YTM and decrease with increasing YTM, as duration is inversely related to YTM changes."
   ]
  },
  {
   "cell_type": "markdown",
   "id": "493ffa4d-bf31-4bf7-9a12-171a63cbff9e",
   "metadata": {},
   "source": [
    "## Plot the rates curve"
   ]
  },
  {
   "cell_type": "code",
   "execution_count": 64,
   "id": "6661c1f9-1def-4a8a-93a7-a1451d3aeef3",
   "metadata": {},
   "outputs": [],
   "source": [
    "import matplotlib.pyplot as plt"
   ]
  },
  {
   "cell_type": "code",
   "execution_count": 66,
   "id": "2798d3d6-45f6-4b7c-9a96-a8ab0214ac8e",
   "metadata": {},
   "outputs": [],
   "source": [
    "# Define time periods and interest rates\n",
    "time_periods = np.arange(1, len(r) + 1)  # Time periods (1 to T)\n",
    "r = np.array([0.051, 0.0511, 0.05112, 0.0513, 0.0514])  # Interest rate curve"
   ]
  },
  {
   "cell_type": "code",
   "execution_count": 72,
   "id": "db4ac913-e268-4c46-b592-7f76a0b137d7",
   "metadata": {},
   "outputs": [
    {
     "data": {
      "image/png": "[encoded data removed]",
      "text/plain": [
       "<Figure size 640x480 with 1 Axes>"
      ]
     },
     "metadata": {},
     "output_type": "display_data"
    }
   ],
   "source": [
    "# Plot the interest rate curve\n",
    "plt.plot(time_periods, r, marker='o', linestyle='-', label='Interest Rate Curve')\n",
    "\n",
    "# Add labels and title\n",
    "plt.title(\"Interest Rate Term Structure\")\n",
    "plt.xlabel(\"Time to Maturity (Years)\")\n",
    "plt.ylabel(\"Interest Rate\")\n",
    "plt.grid(True)\n",
    "plt.legend()\n",
    "\n",
    "# Display the plot\n",
    "plt.show()"
   ]
  }
 ],
 "metadata": {
  "kernelspec": {
   "display_name": "Python 3 (ipykernel)",
   "language": "python",
   "name": "python3"
  },
  "language_info": {
   "codemirror_mode": {
    "name": "ipython",
    "version": 3
   },
   "file_extension": ".py",
   "mimetype": "text/x-python",
   "name": "python",
   "nbconvert_exporter": "python",
   "pygments_lexer": "ipython3",
   "version": "3.12.4"
  }
 },
 "nbformat": 4,
 "nbformat_minor": 5
}
